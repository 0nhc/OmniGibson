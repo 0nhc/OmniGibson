{
 "cells": [
  {
   "cell_type": "code",
   "execution_count": null,
   "metadata": {
    "collapsed": true
   },
   "outputs": [],
   "source": [
    "from __future__ import print_function\n",
    "import torch.utils.data as data\n",
    "from PIL import Image\n",
    "import os\n",
    "import os.path\n",
    "import errno\n",
    "import torch\n",
    "from torch import nn\n",
    "from torch.autograd import Variable\n",
    "import json\n",
    "import codecs\n",
    "import numpy as np\n",
    "import progressbar\n",
    "import sys\n",
    "import torchvision.transforms as transforms\n",
    "import utils\n",
    "import argparse\n",
    "import json\n",
    "from numpy.linalg import inv\n",
    "import pickle\n",
    "from datasets import Places365Dataset, ViewDataSet3D\n",
    "\n",
    "import matplotlib.pyplot as plt\n",
    "%matplotlib inline"
   ]
  },
  {
   "cell_type": "code",
   "execution_count": null,
   "metadata": {},
   "outputs": [
    {
     "name": "stdout",
     "output_type": "stream",
     "text": [
      "test\n",
      "Processing the data:\n",
      "view_highres_fofn1.pkl\n"
     ]
    }
   ],
   "source": [
    "print('test')\n",
    "parser = argparse.ArgumentParser()\n",
    "parser.add_argument('--debug'  , action='store_true', help='debug mode')\n",
    "parser.add_argument('--dataroot', required=True, help='path to dataset')\n",
    "opt = parser.parse_args(['--dataroot', '/cvgl2/u/feixia/view_highres'])\n",
    "tf = transforms.Compose([\n",
    "    transforms.Scale(1024, 1024 * 2),\n",
    "    transforms.ToTensor(),\n",
    "])\n",
    "    \n",
    "mist_tf = transforms.Compose([\n",
    "    transforms.ToTensor(),\n",
    "])\n",
    "\n",
    "d = ViewDataSet3D(root=opt.dataroot, debug=opt.debug, transform=tf, mist_transform=mist_tf, seqlen = 2, off_3d = False, off_pc_render = True)\n",
    "print(len(d))\n",
    "means = []\n"
   ]
  },
  {
   "cell_type": "code",
   "execution_count": null,
   "metadata": {},
   "outputs": [],
   "source": [
    "print(len(d))"
   ]
  },
  {
   "cell_type": "code",
   "execution_count": null,
   "metadata": {
    "collapsed": true
   },
   "outputs": [],
   "source": [
    "class Depth3DGridGen(nn.Module):\n",
    "    def __init__(self, height, width):\n",
    "        super(Depth3DGridGen, self).__init__()\n",
    "        self.height, self.width = height, width\n",
    "        self.grid = np.zeros( [self.height, self.width, 3], dtype=np.float32)\n",
    "        self.grid[:,:,0] = np.expand_dims(np.repeat(np.expand_dims(np.arange(-1, 1, 2.0/self.height), 0), repeats = self.width, axis = 0).T, 0)\n",
    "        self.grid[:,:,1] = np.expand_dims(np.repeat(np.expand_dims(np.arange(-1, 1, 2.0/self.width), 0), repeats = self.height, axis = 0), 0)\n",
    "        self.grid[:,:,2] = np.ones([self.height, width])\n",
    "        self.grid = torch.from_numpy(self.grid.astype(np.float32))\n",
    "\n",
    "        self.theta = self.grid[:,:,0] * np.pi/2 + np.pi/2\n",
    "        self.phi = self.grid[:,:,1] * np.pi\n",
    "\n",
    "        self.x = torch.sin(self.theta) * torch.cos(self.phi)\n",
    "        self.y = torch.sin(self.theta) * torch.sin(self.phi)\n",
    "        self.z = torch.cos(self.theta)\n",
    "\n",
    "        self.grid3d = torch.from_numpy(np.zeros( [self.height, self.width, 4], dtype=np.float32))\n",
    "\n",
    "        self.grid3d[:,:,0] = self.x\n",
    "        self.grid3d[:,:,1] = self.y\n",
    "        self.grid3d[:,:,2] = self.z\n",
    "        self.grid3d[:,:,3] = self.grid[:,:,2]\n",
    "\n",
    "\n",
    "    def forward(self, depth, transformation):\n",
    "        self.batchgrid3d = torch.zeros(torch.Size([depth.size(0)]) + self.grid3d.size())\n",
    "\n",
    "        for i in range(depth.size(0)):\n",
    "            self.batchgrid3d[i] = self.grid3d\n",
    "\n",
    "        self.batchgrid3d = Variable(self.batchgrid3d)\n",
    "        self.batchgrid = torch.zeros(torch.Size([depth.size(0)]) + self.grid.size())\n",
    "\n",
    "        for i in range(depth.size(0)):\n",
    "            self.batchgrid[i] = self.grid\n",
    "\n",
    "        self.batchgrid = Variable(self.batchgrid)\n",
    "\n",
    "        x = self.batchgrid3d[:,:,:,0:1] * depth * 128\n",
    "        y = self.batchgrid3d[:,:,:,1:2] * depth * 128\n",
    "        z = self.batchgrid3d[:,:,:,2:3] * depth * 128\n",
    "        print(x.size(), y.size(), z.size())\n",
    "        r = torch.sqrt(x**2 + y**2 + z**2)\n",
    "        #print(r)\n",
    "        theta = torch.acos(z/r)/(np.pi/2)  - 1\n",
    "        phi = torch.atan(y/x)\n",
    "        phi = phi/np.pi\n",
    "\n",
    "        output = torch.cat([theta,phi], 3)\n",
    "        \n",
    "        return output"
   ]
  },
  {
   "cell_type": "code",
   "execution_count": null,
   "metadata": {
    "collapsed": true
   },
   "outputs": [],
   "source": [
    "gridgen = Depth3DGridGen(1024, 2048)"
   ]
  },
  {
   "cell_type": "code",
   "execution_count": null,
   "metadata": {
    "collapsed": true
   },
   "outputs": [],
   "source": [
    "data = d[0]"
   ]
  },
  {
   "cell_type": "code",
   "execution_count": 16,
   "metadata": {},
   "outputs": [
    {
     "data": {
      "text/plain": [
       "[\n",
       " ( 0  ,.,.) = \n",
       "   0.6235  0.6235  0.6235  ...   0.6235  0.6235  0.6235\n",
       "   0.6235  0.6235  0.6235  ...   0.6235  0.6235  0.6235\n",
       "   0.6235  0.6235  0.6235  ...   0.6235  0.6235  0.6235\n",
       "            ...             ⋱             ...          \n",
       "   0.5098  0.5098  0.5098  ...   0.5059  0.5059  0.5059\n",
       "   0.5098  0.5098  0.5098  ...   0.5059  0.5059  0.5059\n",
       "   0.5098  0.5098  0.5098  ...   0.5059  0.5059  0.5059\n",
       " \n",
       " ( 1  ,.,.) = \n",
       "   0.6000  0.6000  0.6000  ...   0.6000  0.6000  0.6000\n",
       "   0.6000  0.6000  0.6000  ...   0.6000  0.6000  0.6000\n",
       "   0.6000  0.6000  0.6000  ...   0.6000  0.6000  0.6000\n",
       "            ...             ⋱             ...          \n",
       "   0.4471  0.4471  0.4471  ...   0.4510  0.4510  0.4510\n",
       "   0.4471  0.4471  0.4471  ...   0.4510  0.4510  0.4510\n",
       "   0.4471  0.4471  0.4471  ...   0.4510  0.4510  0.4510\n",
       " \n",
       " ( 2  ,.,.) = \n",
       "   0.6157  0.6157  0.6157  ...   0.6157  0.6157  0.6157\n",
       "   0.6157  0.6157  0.6157  ...   0.6157  0.6157  0.6157\n",
       "   0.6157  0.6157  0.6157  ...   0.6157  0.6157  0.6157\n",
       "            ...             ⋱             ...          \n",
       "   0.3961  0.3961  0.3961  ...   0.4078  0.4078  0.4078\n",
       "   0.3961  0.3961  0.3961  ...   0.4078  0.4078  0.4078\n",
       "   0.3961  0.3961  0.3961  ...   0.4078  0.4078  0.4078\n",
       " [torch.FloatTensor of size 3x1024x2048], \n",
       " ( 0  ,.,.) = \n",
       "   0.6078  0.6078  0.6078  ...   0.6078  0.6078  0.6078\n",
       "   0.6078  0.6078  0.6078  ...   0.6078  0.6078  0.6078\n",
       "   0.6078  0.6078  0.6078  ...   0.6078  0.6078  0.6078\n",
       "            ...             ⋱             ...          \n",
       "   0.4784  0.4784  0.4784  ...   0.4784  0.4784  0.4784\n",
       "   0.4784  0.4784  0.4784  ...   0.4784  0.4784  0.4784\n",
       "   0.4784  0.4784  0.4784  ...   0.4784  0.4784  0.4784\n",
       " \n",
       " ( 1  ,.,.) = \n",
       "   0.5765  0.5765  0.5765  ...   0.5765  0.5765  0.5765\n",
       "   0.5765  0.5765  0.5765  ...   0.5765  0.5765  0.5765\n",
       "   0.5765  0.5765  0.5765  ...   0.5765  0.5765  0.5765\n",
       "            ...             ⋱             ...          \n",
       "   0.4078  0.4078  0.4078  ...   0.4078  0.4078  0.4078\n",
       "   0.4078  0.4078  0.4078  ...   0.4078  0.4078  0.4078\n",
       "   0.4078  0.4078  0.4078  ...   0.4078  0.4078  0.4078\n",
       " \n",
       " ( 2  ,.,.) = \n",
       "   0.5333  0.5333  0.5333  ...   0.5255  0.5255  0.5255\n",
       "   0.5333  0.5333  0.5333  ...   0.5255  0.5255  0.5255\n",
       "   0.5333  0.5333  0.5333  ...   0.5255  0.5255  0.5255\n",
       "            ...             ⋱             ...          \n",
       "   0.3608  0.3608  0.3608  ...   0.3686  0.3686  0.3686\n",
       "   0.3608  0.3608  0.3608  ...   0.3686  0.3686  0.3686\n",
       "   0.3686  0.3686  0.3686  ...   0.3686  0.3686  0.3686\n",
       " [torch.FloatTensor of size 3x1024x2048], \n",
       " ( 0  ,.,.) = \n",
       "   0.5765  0.5765  0.5765  ...   0.5804  0.5804  0.5804\n",
       "   0.5765  0.5765  0.5765  ...   0.5804  0.5804  0.5804\n",
       "   0.5804  0.5804  0.5804  ...   0.5804  0.5804  0.5804\n",
       "            ...             ⋱             ...          \n",
       "   0.5961  0.5961  0.5961  ...   0.5922  0.5922  0.5922\n",
       "   0.5961  0.5961  0.5961  ...   0.5961  0.5961  0.5961\n",
       "   0.6000  0.6000  0.6000  ...   0.5961  0.5961  0.5961\n",
       " \n",
       " ( 1  ,.,.) = \n",
       "   0.5451  0.5451  0.5451  ...   0.5490  0.5490  0.5490\n",
       "   0.5451  0.5451  0.5451  ...   0.5490  0.5490  0.5490\n",
       "   0.5490  0.5490  0.5490  ...   0.5490  0.5490  0.5490\n",
       "            ...             ⋱             ...          \n",
       "   0.5059  0.5059  0.5059  ...   0.5020  0.5020  0.5020\n",
       "   0.5059  0.5059  0.5059  ...   0.5059  0.5059  0.5059\n",
       "   0.5098  0.5098  0.5098  ...   0.5059  0.5059  0.5059\n",
       " \n",
       " ( 2  ,.,.) = \n",
       "   0.5020  0.5020  0.5020  ...   0.5059  0.5059  0.5059\n",
       "   0.5020  0.5020  0.5020  ...   0.5059  0.5059  0.5059\n",
       "   0.5059  0.5059  0.5059  ...   0.5059  0.5059  0.5059\n",
       "            ...             ⋱             ...          \n",
       "   0.4510  0.4510  0.4510  ...   0.4471  0.4471  0.4471\n",
       "   0.4510  0.4510  0.4510  ...   0.4510  0.4510  0.4510\n",
       "   0.4549  0.4549  0.4549  ...   0.4510  0.4510  0.4510\n",
       " [torch.FloatTensor of size 3x1024x2048], \n",
       " ( 0  ,.,.) = \n",
       "   0.5922  0.5922  0.5922  ...   0.5843  0.5843  0.5843\n",
       "   0.5922  0.5922  0.5922  ...   0.5843  0.5843  0.5843\n",
       "   0.5922  0.5922  0.5922  ...   0.5843  0.5843  0.5843\n",
       "            ...             ⋱             ...          \n",
       "   0.8314  0.8314  0.8314  ...   0.8314  0.8314  0.8314\n",
       "   0.8314  0.8314  0.8314  ...   0.8314  0.8314  0.8314\n",
       "   0.8314  0.8314  0.8314  ...   0.8314  0.8314  0.8314\n",
       " \n",
       " ( 1  ,.,.) = \n",
       "   0.5569  0.5569  0.5569  ...   0.5608  0.5608  0.5608\n",
       "   0.5569  0.5569  0.5569  ...   0.5608  0.5608  0.5608\n",
       "   0.5569  0.5569  0.5569  ...   0.5608  0.5608  0.5608\n",
       "            ...             ⋱             ...          \n",
       "   0.6510  0.6510  0.6510  ...   0.6471  0.6471  0.6471\n",
       "   0.6510  0.6510  0.6510  ...   0.6471  0.6471  0.6471\n",
       "   0.6510  0.6510  0.6510  ...   0.6510  0.6510  0.6510\n",
       " \n",
       " ( 2  ,.,.) = \n",
       "   0.5686  0.5686  0.5686  ...   0.5765  0.5765  0.5765\n",
       "   0.5686  0.5686  0.5686  ...   0.5765  0.5765  0.5765\n",
       "   0.5686  0.5686  0.5686  ...   0.5765  0.5765  0.5765\n",
       "            ...             ⋱             ...          \n",
       "   0.4196  0.4196  0.4196  ...   0.4275  0.4275  0.4275\n",
       "   0.4196  0.4196  0.4196  ...   0.4275  0.4275  0.4275\n",
       "   0.4196  0.4196  0.4196  ...   0.4196  0.4196  0.4196\n",
       " [torch.FloatTensor of size 3x1024x2048]]"
      ]
     },
     "execution_count": 16,
     "metadata": {},
     "output_type": "execute_result"
    }
   ],
   "source": [
    "source = Variable(d[0][0]).cuda().unsqueeze(0)\n",
    "target = Variable(d[1]).cuda().unsqueeze(0)\n",
    "depth = Variable(d[2]).transpose(1,0).transpose(2,1)"
   ]
  },
  {
   "cell_type": "code",
   "execution_count": null,
   "metadata": {},
   "outputs": [],
   "source": [
    "depth = Variable(d[2]).transpose(1,0).transpose(2,1)"
   ]
  },
  {
   "cell_type": "code",
   "execution_count": null,
   "metadata": {},
   "outputs": [],
   "source": [
    "depth.size()"
   ]
  },
  {
   "cell_type": "code",
   "execution_count": 19,
   "metadata": {},
   "outputs": [
    {
     "ename": "IndexError",
     "evalue": "tuple index out of range",
     "output_type": "error",
     "traceback": [
      "\u001b[0;31m---------------------------------------------------------------------------\u001b[0m",
      "\u001b[0;31mIndexError\u001b[0m                                Traceback (most recent call last)",
      "\u001b[0;32m<ipython-input-19-344434560f46>\u001b[0m in \u001b[0;36m<module>\u001b[0;34m()\u001b[0m\n\u001b[0;32m----> 1\u001b[0;31m \u001b[0mdata\u001b[0m\u001b[0;34m[\u001b[0m\u001b[0;36m3\u001b[0m\u001b[0;34m]\u001b[0m\u001b[0;34m\u001b[0m\u001b[0m\n\u001b[0m",
      "\u001b[0;31mIndexError\u001b[0m: tuple index out of range"
     ]
    }
   ],
   "source": []
  },
  {
   "cell_type": "code",
   "execution_count": null,
   "metadata": {
    "collapsed": true
   },
   "outputs": [],
   "source": []
  }
 ],
 "metadata": {
  "kernelspec": {
   "display_name": "Python 2",
   "language": "python",
   "name": "python2"
  },
  "language_info": {
   "codemirror_mode": {
    "name": "ipython",
    "version": 2
   },
   "file_extension": ".py",
   "mimetype": "text/x-python",
   "name": "python",
   "nbconvert_exporter": "python",
   "pygments_lexer": "ipython2",
   "version": "2.7.6"
  }
 },
 "nbformat": 4,
 "nbformat_minor": 2
}
